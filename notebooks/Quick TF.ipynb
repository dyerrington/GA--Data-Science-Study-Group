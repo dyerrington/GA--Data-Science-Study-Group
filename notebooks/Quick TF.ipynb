{
 "cells": [
  {
   "cell_type": "markdown",
   "metadata": {},
   "source": [
    "Hi There!  To check out some of my other code samples related to text:\n",
    "    \n",
    " - https://gist.github.com/dyerrington\n",
    " - https://github.com/dyerrington/Rapstats\n",
    " - http://jsfiddle.net/dyerrington/22fLa/\n",
    " \n",
    " \n",
    " -----"
   ]
  },
  {
   "cell_type": "code",
   "execution_count": 2,
   "metadata": {
    "collapsed": true
   },
   "outputs": [],
   "source": [
    "import pandas as pd\n",
    "import seaborn as sns\n",
    "\n",
    "%matplotlib inline"
   ]
  },
  {
   "cell_type": "code",
   "execution_count": 3,
   "metadata": {
    "collapsed": false
   },
   "outputs": [],
   "source": [
    "source_text  =   'The quick brown fox jumped over the lazy dog and then the lazy dog cried for about an hour'\n",
    "chunked      =   pd.Series(source_text.lower().split())\n",
    "word_counts  =   pd.DataFrame(chunked.value_counts(), columns=['freq'])"
   ]
  },
  {
   "cell_type": "code",
   "execution_count": 4,
   "metadata": {
    "collapsed": false
   },
   "outputs": [
    {
     "name": "stdout",
     "output_type": "stream",
     "text": [
      "      the  dog  lazy  hour  quick  cried  an  about  fox  over  jumped  for  \\\n",
      "freq    3    2     2     1      1      1   1      1    1     1       1    1   \n",
      "\n",
      "      then  brown  and  \n",
      "freq     1      1    1  \n",
      "       the  dog  lazy  hour  quick  cried  an  about  fox  over  jumped  for  \\\n",
      "count    1    1     1     1      1      1   1      1    1     1       1    1   \n",
      "mean     3    2     2     1      1      1   1      1    1     1       1    1   \n",
      "std    NaN  NaN   NaN   NaN    NaN    NaN NaN    NaN  NaN   NaN     NaN  NaN   \n",
      "min      3    2     2     1      1      1   1      1    1     1       1    1   \n",
      "25%      3    2     2     1      1      1   1      1    1     1       1    1   \n",
      "50%      3    2     2     1      1      1   1      1    1     1       1    1   \n",
      "75%      3    2     2     1      1      1   1      1    1     1       1    1   \n",
      "max      3    2     2     1      1      1   1      1    1     1       1    1   \n",
      "\n",
      "       then  brown  and  \n",
      "count     1      1    1  \n",
      "mean      1      1    1  \n",
      "std     NaN    NaN  NaN  \n",
      "min       1      1    1  \n",
      "25%       1      1    1  \n",
      "50%       1      1    1  \n",
      "75%       1      1    1  \n",
      "max       1      1    1  \n"
     ]
    }
   ],
   "source": [
    "print word_counts.T\n",
    "print word_counts.T.describe()"
   ]
  },
  {
   "cell_type": "code",
   "execution_count": 5,
   "metadata": {
    "collapsed": false
   },
   "outputs": [
    {
     "data": {
      "text/plain": [
       "<matplotlib.text.Text at 0x1076dc7d0>"
      ]
     },
     "execution_count": 5,
     "metadata": {},
     "output_type": "execute_result"
    },
    {
     "data": {
      "image/png": "[encoded data removed]",
      "text/plain": [
       "<matplotlib.figure.Figure at 0x1075d00d0>"
      ]
     },
     "metadata": {},
     "output_type": "display_data"
    }
   ],
   "source": [
    "plt = word_counts.plot(kind='bar', figsize=(16,8), rot=45)\n",
    "plt.set_xlabel('Words')\n",
    "plt.set_ylabel('Freq')\n",
    "plt.set_title('Quick TF')"
   ]
  },
  {
   "cell_type": "markdown",
   "metadata": {
    "collapsed": true
   },
   "source": [
    "# A Pure Python Implmentation\n",
    "\n",
    "Thank you for the quiz. One request....Using pandas is 100% the right thing to do to solve this problem, but for the purposes of this challenge (where I'd like to see a bit more of your personal code), can you do the challenge again using stock Python only? You don't have to print out a graph or anything, just a list of the characters and their frequency in the source string will suffice (bonus points for also doing word frequency in addition to character frequency).\n",
    "\n",
    "Looking forward to the code,\n",
    "Julia\n",
    "\n",
    "-----------------\n",
    "\n",
    "##Using no libraries, and some libraries, probably more than you wanted to know."
   ]
  },
  {
   "cell_type": "code",
   "execution_count": 6,
   "metadata": {
    "collapsed": false
   },
   "outputs": [
    {
     "name": "stdout",
     "output_type": "stream",
     "text": [
      "Created `%t` as an alias for `%timeit`.\n",
      "Created `%%t` as an alias for `%%timeit`.\n"
     ]
    }
   ],
   "source": [
    "%alias_magic t timeit\n",
    "\n",
    "class count_characters:\n",
    "    \n",
    "    source_text  =   \"The quick brown fox jumped over the lazy dog and then the lazy dog cried for about an hour\"\n",
    "    characters   =   []\n",
    "    words        =   []\n",
    "    \n",
    "    def __init__(self):\n",
    "        \n",
    "        \"\"\" Set the source string to a character list, and word list \"\"\"\n",
    "        self.characters  =   [char for char in source_text]\n",
    "        self.words       =   [word for word in source_text.lower().split()]\n",
    "    \n",
    "    def get_character_count_without_libraries(self):\n",
    "    \n",
    "        \"\"\" Using no libraries \"\"\"\n",
    "        chars = {}\n",
    "\n",
    "        for char in self.characters:\n",
    "            try:\n",
    "                chars[char] = chars[char] + 1\n",
    "            except:\n",
    "                chars[char] = 1\n",
    "                \n",
    "        return chars\n",
    "    \n",
    "    def get_character_count_solution_1(self):\n",
    "        \n",
    "        \"\"\" Using collections, this problem can be solved a little more elegantly \"\"\"\n",
    "        \n",
    "        from collections import defaultdict\n",
    "        \n",
    "        chars = defaultdict(lambda: 0)\n",
    "        \n",
    "        for char in self.characters:\n",
    "            chars[char] = chars[char] + 1\n",
    "        \n",
    "        return chars\n",
    "        \n",
    "    def get_character_count_solution_2(self):\n",
    "        \n",
    "        \"\"\"  Using collections.Counter method, minimal coding required \"\"\"\n",
    "        \n",
    "        from collections import Counter\n",
    "        \n",
    "        return Counter(self.source_text)\n",
    "        \n",
    "        \n",
    "    \"\"\" Much in the same way we iterate characters, words can be aggregated in the same above ways \"\"\"\n",
    "    \n",
    "    def get_word_count_without_libraries(self):\n",
    "        \n",
    "        words = {}\n",
    "        \n",
    "        for word in self.words:\n",
    "            \n",
    "            try:\n",
    "                words[word] = words[word] + 1\n",
    "            except:\n",
    "                words[word] = 1\n",
    "        \n",
    "        return words\n",
    "    \n",
    "    def get_word_count_solution_1(self):\n",
    "        \n",
    "        from collections import defaultdict\n",
    "        \n",
    "        words = defaultdict(lambda: 0)\n",
    "        \n",
    "        for word in self.words:\n",
    "            words[word] = words[word] + 1\n",
    "        \n",
    "        return words\n",
    "    \n",
    "    def get_word_count_solution_2(self):\n",
    "        \n",
    "        from collections import Counter\n",
    "        \n",
    "        return Counter(self.words)\n",
    "    "
   ]
  },
  {
   "cell_type": "code",
   "execution_count": 7,
   "metadata": {
    "collapsed": false
   },
   "outputs": [
    {
     "name": "stdout",
     "output_type": "stream",
     "text": [
      "Counts without using libraries:\n",
      "\n",
      "{' ': 18, 'T': 1, 'a': 5, 'c': 2, 'b': 2, 'e': 7, 'd': 5, 'g': 2, 'f': 2, 'i': 2, 'h': 5, 'k': 1, 'j': 1, 'm': 1, 'l': 2, 'o': 8, 'n': 4, 'q': 1, 'p': 1, 'r': 5, 'u': 4, 't': 4, 'w': 1, 'v': 1, 'y': 2, 'x': 1, 'z': 2}\n",
      "\n",
      "\n",
      "Performance:\n"
     ]
    }
   ],
   "source": [
    "chars = count_characters()\n",
    "print \"Counts without using libraries:\\n\\n\", chars.get_character_count_without_libraries()\n",
    "\n",
    "print \"\\n\\nPerformance:\"\n",
    "# %timeit pass"
   ]
  },
  {
   "cell_type": "code",
   "execution_count": 8,
   "metadata": {
    "collapsed": false
   },
   "outputs": [
    {
     "name": "stdout",
     "output_type": "stream",
     "text": [
      "Counts using defaultdict collection:\n",
      "\n",
      "defaultdict(<function <lambda> at 0x1076cc1b8>, {' ': 18, 'T': 1, 'a': 5, 'c': 2, 'b': 2, 'e': 7, 'd': 5, 'g': 2, 'f': 2, 'i': 2, 'h': 5, 'k': 1, 'j': 1, 'm': 1, 'l': 2, 'o': 8, 'n': 4, 'q': 1, 'p': 1, 'r': 5, 'u': 4, 't': 4, 'w': 1, 'v': 1, 'y': 2, 'x': 1, 'z': 2})\n",
      "\n",
      "\n",
      "Performance:\n",
      "The slowest run took 85.98 times longer than the fastest. This could mean that an intermediate result is being cached \n",
      "100000000 loops, best of 3: 17.7 ns per loop\n"
     ]
    }
   ],
   "source": [
    "print \"Counts using defaultdict collection:\\n\\n\", chars.get_character_count_solution_1()\n",
    "print \"\\n\\nPerformance:\"\n",
    "\n",
    "%timeit pass"
   ]
  },
  {
   "cell_type": "code",
   "execution_count": 9,
   "metadata": {
    "collapsed": false
   },
   "outputs": [
    {
     "name": "stdout",
     "output_type": "stream",
     "text": [
      "Counts using defaultdict collection:\n",
      "\n",
      "Counter({' ': 18, 'o': 8, 'e': 7, 'a': 5, 'd': 5, 'h': 5, 'r': 5, 'n': 4, 'u': 4, 't': 4, 'c': 2, 'b': 2, 'g': 2, 'f': 2, 'i': 2, 'l': 2, 'y': 2, 'z': 2, 'T': 1, 'k': 1, 'j': 1, 'm': 1, 'q': 1, 'p': 1, 'w': 1, 'v': 1, 'x': 1})\n",
      "\n",
      "\n",
      "Performance:\n"
     ]
    }
   ],
   "source": [
    "print \"Counts using defaultdict collection:\\n\\n\", chars.get_character_count_solution_2()\n",
    "print \"\\n\\nPerformance:\"\n",
    "\n",
    "# %timeit pass"
   ]
  },
  {
   "cell_type": "markdown",
   "metadata": {},
   "source": [
    "#Words!"
   ]
  },
  {
   "cell_type": "markdown",
   "metadata": {},
   "source": [
    "###In this example, we find the counts of characters, using pure python."
   ]
  },
  {
   "cell_type": "code",
   "execution_count": 10,
   "metadata": {
    "collapsed": false
   },
   "outputs": [
    {
     "name": "stdout",
     "output_type": "stream",
     "text": [
      "{'and': 1, 'brown': 1, 'lazy': 2, 'for': 1, 'cried': 1, 'then': 1, 'jumped': 1, 'over': 1, 'fox': 1, 'dog': 2, 'hour': 1, 'an': 1, 'quick': 1, 'about': 1, 'the': 3}\n",
      "\n",
      "\n",
      "Performance:\n",
      "The slowest run took 46.75 times longer than the fastest. This could mean that an intermediate result is being cached \n",
      "100000000 loops, best of 3: 25.5 ns per loop\n"
     ]
    }
   ],
   "source": [
    "print chars.get_word_count_without_libraries()\n",
    "print \"\\n\\nPerformance:\"\n",
    "\n",
    "%timeit pass"
   ]
  },
  {
   "cell_type": "markdown",
   "metadata": {},
   "source": [
    "###Using a defaultdict, we don't have to consider if the hash key is initialized, so no need to try / catch exceptions."
   ]
  },
  {
   "cell_type": "code",
   "execution_count": 11,
   "metadata": {
    "collapsed": false
   },
   "outputs": [
    {
     "name": "stdout",
     "output_type": "stream",
     "text": [
      "defaultdict(<function <lambda> at 0x107703398>, {'and': 1, 'brown': 1, 'lazy': 2, 'for': 1, 'cried': 1, 'then': 1, 'jumped': 1, 'over': 1, 'fox': 1, 'dog': 2, 'hour': 1, 'an': 1, 'quick': 1, 'about': 1, 'the': 3})\n",
      "\n",
      "\n",
      "Performance:\n",
      "10000000 loops, best of 3: 29.3 ns per loop\n"
     ]
    }
   ],
   "source": [
    "print chars.get_word_count_solution_1()\n",
    "print \"\\n\\nPerformance:\"\n",
    "\n",
    "%timeit pass"
   ]
  },
  {
   "cell_type": "markdown",
   "metadata": {},
   "source": [
    "###Using collections.Counter, it's a very non-implementation but it's nice to be lazy for small datasets"
   ]
  },
  {
   "cell_type": "code",
   "execution_count": 12,
   "metadata": {
    "collapsed": false
   },
   "outputs": [
    {
     "name": "stdout",
     "output_type": "stream",
     "text": [
      "Counter({'the': 3, 'lazy': 2, 'dog': 2, 'and': 1, 'brown': 1, 'for': 1, 'cried': 1, 'then': 1, 'jumped': 1, 'over': 1, 'fox': 1, 'hour': 1, 'an': 1, 'quick': 1, 'about': 1})\n",
      "\n",
      "\n",
      "Performance:\n",
      "10000000 loops, best of 3: 18 ns per loop\n"
     ]
    }
   ],
   "source": [
    "counter = chars.get_word_count_solution_2()\n",
    "\n",
    "print counter\n",
    "print \"\\n\\nPerformance:\"\n",
    "\n",
    "%timeit pass"
   ]
  },
  {
   "cell_type": "markdown",
   "metadata": {},
   "source": [
    "####It's also worth mentioning, that counters offer easy sorting (outside of pythons sorted() method)"
   ]
  },
  {
   "cell_type": "code",
   "execution_count": 13,
   "metadata": {
    "collapsed": false
   },
   "outputs": [
    {
     "name": "stdout",
     "output_type": "stream",
     "text": [
      "[('the', 3), ('lazy', 2), ('dog', 2)]\n"
     ]
    }
   ],
   "source": [
    "print counter.most_common(3)"
   ]
  },
  {
   "cell_type": "markdown",
   "metadata": {},
   "source": [
    "##Sentence structure\n",
    "\n",
    "What kinds of problems can we solve if we know the semantic structure of text?\n",
    "\n",
    "A few are:\n",
    " \n",
    "  - Semantic pattern recognition\n",
    "  - Contextual meaning\n",
    "  - Sentiment analysis \n",
    "  \n",
    "Many supervised learning problems begin with this preprocess method.. and it's neat!\n",
    "  "
   ]
  },
  {
   "cell_type": "code",
   "execution_count": 14,
   "metadata": {
    "collapsed": false
   },
   "outputs": [],
   "source": [
    "import nltk\n",
    "\n",
    "words  =  [nltk.word_tokenize(word) for word in chars.words]\n",
    "pos    =  [nltk.pos_tag(word) for word in words]"
   ]
  },
  {
   "cell_type": "code",
   "execution_count": 15,
   "metadata": {
    "collapsed": false
   },
   "outputs": [
    {
     "data": {
      "text/plain": [
       "[[('the', 'DT')],\n",
       " [('quick', 'NN')],\n",
       " [('brown', 'NN')],\n",
       " [('fox', 'NN')],\n",
       " [('jumped', 'VBD')],\n",
       " [('over', 'IN')],\n",
       " [('the', 'DT')],\n",
       " [('lazy', 'NN')],\n",
       " [('dog', 'NN')],\n",
       " [('and', 'CC')],\n",
       " [('then', 'RB')],\n",
       " [('the', 'DT')],\n",
       " [('lazy', 'NN')],\n",
       " [('dog', 'NN')],\n",
       " [('cried', 'VBD')],\n",
       " [('for', 'IN')],\n",
       " [('about', 'IN')],\n",
       " [('an', 'DT')],\n",
       " [('hour', 'PRP$')]]"
      ]
     },
     "execution_count": 15,
     "metadata": {},
     "output_type": "execute_result"
    }
   ],
   "source": [
    "pos"
   ]
  },
  {
   "cell_type": "markdown",
   "metadata": {},
   "source": [
    "### But what does this mean?"
   ]
  },
  {
   "cell_type": "markdown",
   "metadata": {},
   "source": [
    "|Number|Tag|Description|\n",
    "|------|---|-----------|\n",
    "|1.\t|CC|\tCoordinating conjunction\n",
    "|2.\t|CD|\tCardinal number\n",
    "|3.\t|DT|\tDeterminer\n",
    "|4.\t|EX|\tExistential there\n",
    "|5.\t|FW|\tForeign word\n",
    "|6.\t|IN|\tPreposition or subordinating conjunction\n",
    "|7.\t|JJ|\tAdjective\n",
    "|8.\t|JJR|\tAdjective, comparative\n",
    "|9.\t|JJS|\tAdjective, superlative\n",
    "|10. |LS|\tList item marker\n",
    "|11. |MD|\tModal\n",
    "|12. |NN|\tNoun, singular or mass\n",
    "|13. |NNS|\tNoun, plural\n",
    "|14. |NNP|\tProper noun, singular\n",
    "|15. |NNPS|\tProper noun, plural\n",
    "|16. |PDT|\tPredeterminer\n",
    "|17. |POS|\tPossessive ending\n",
    "|18. |PRP|\tPersonal pronoun\n",
    "|19. |PRP\\$|\tPossessive pronoun\n",
    "|20. |RB|\tAdverb\n",
    "|21. |RBR|\tAdverb, comparative\n",
    "|22. |RBS|\tAdverb, superlative\n",
    "|23. |RP|\tParticle\n",
    "|24. |SYM|\tSymbol\n",
    "|25. |TO|\tto\n",
    "|26. |UH|\tInterjection\n",
    "|27. |VB|\tVerb, base form\n",
    "|28. |VBD|\tVerb, past tense\n",
    "|29. |VBG|\tVerb, gerund or present participle\n",
    "|30. |VBN|\tVerb, past participle\n",
    "|31. |VBP|\tVerb, non-3rd person singular present\n",
    "|32. |VBZ|\tVerb, 3rd person singular present\n",
    "|33. |WDT|\tWh-determiner\n",
    "|34. |WP|\tWh-pronoun\n",
    "|35. |WP$|\tPossessive wh-pronoun\n",
    "|36. |WRB|\tWh-adverb"
   ]
  },
  {
   "cell_type": "code",
   "execution_count": null,
   "metadata": {
    "collapsed": true
   },
   "outputs": [],
   "source": []
  }
 ],
 "metadata": {
  "celltoolbar": "Raw Cell Format",
  "kernelspec": {
   "display_name": "Python 2",
   "language": "python",
   "name": "python2"
  },
  "language_info": {
   "codemirror_mode": {
    "name": "ipython",
    "version": 2
   },
   "file_extension": ".py",
   "mimetype": "text/x-python",
   "name": "python",
   "nbconvert_exporter": "python",
   "pygments_lexer": "ipython2",
   "version": "2.7.6"
  }
 },
 "nbformat": 4,
 "nbformat_minor": 0
}
